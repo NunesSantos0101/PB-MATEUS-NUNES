{
 "cells": [
  {
   "cell_type": "code",
   "execution_count": 2,
   "metadata": {},
   "outputs": [],
   "source": [
    "import pandas as pd\n",
    "\n",
    "df = pd.read_csv('ligue180-primeiro-semestre-2024.csv', delimiter=';', low_memory=False)\n",
    "\n",
    "df = df.fillna('NÃO REGISTRADO')\n",
    "\n",
    "df['Data_de_cadastro'] = pd.to_datetime(df['Data_de_cadastro']).dt.date\n",
    "\n",
    "df['Município'] = df['Município'].str.extract(r'\\| (.*)')\n",
    "\n",
    "df_filtrado = df[df['UF'].isin(['SP', 'RJ', 'MG', 'BA', 'RS', 'PE', 'PR', 'SC', 'GO', 'CE'])]\n",
    "\n",
    "\n",
    "\n",
    "frequencia = df_filtrado[\n",
    "    (df_filtrado['Frequência'] == 'DIARIAMENTE') & \n",
    "    ~(df_filtrado['Denúncia_emergencial'] == 'NÃO')\n",
    "]\n",
    "\n",
    "\n",
    "frequencia_diaria = frequencia.groupby(['Data_de_cadastro', 'Denunciante', 'Cenário_da_violação', 'Município', 'UF', 'Denúncia_emergencial']).size().reset_index(name='Frequência_Diaria')\n",
    "\n",
    "media_frequencia = frequencia_diaria.groupby(['Data_de_cadastro', 'Denunciante', 'Cenário_da_violação', 'Município', 'UF', 'Denúncia_emergencial'])['Frequência_Diaria'].mean().reset_index(name='Media_Frequência_Diaria')\n",
    "\n",
    "media_frequencia.sort_values(by='Media_Frequência_Diaria', ascending=False).to_csv('media_frequencia.csv', index=False)\n"
   ]
  },
  {
   "cell_type": "code",
   "execution_count": 3,
   "metadata": {},
   "outputs": [
    {
     "name": "stdout",
     "output_type": "stream",
     "text": [
      "Arquivo enviado com sucesso!\n"
     ]
    }
   ],
   "source": [
    "import boto3\n",
    "\n",
    "s3 = boto3.client('s3', region_name='us-east-1')\n",
    "\n",
    "\n",
    "arquivo_local = './media_frequencia.csv'\n",
    "bucket_name = 'desafio-compass-aws'\n",
    "\n",
    "s3.upload_file(arquivo_local, bucket_name, 'media_frequencia.csv')\n",
    "print(\"Arquivo enviado com sucesso!\")"
   ]
  }
 ],
 "metadata": {
  "kernelspec": {
   "display_name": "Python 3",
   "language": "python",
   "name": "python3"
  },
  "language_info": {
   "codemirror_mode": {
    "name": "ipython",
    "version": 3
   },
   "file_extension": ".py",
   "mimetype": "text/x-python",
   "name": "python",
   "nbconvert_exporter": "python",
   "pygments_lexer": "ipython3",
   "version": "3.12.6"
  }
 },
 "nbformat": 4,
 "nbformat_minor": 2
}
