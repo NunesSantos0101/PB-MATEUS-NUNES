{
 "cells": [
  {
   "cell_type": "markdown",
   "metadata": {},
   "source": [
    "## iniciando uma sessao no spark"
   ]
  },
  {
   "cell_type": "code",
   "execution_count": 1,
   "metadata": {},
   "outputs": [],
   "source": [
    "from pyspark.sql import SparkSession\n",
    "from pyspark.sql import functions as F\n",
    "from pyspark import SparkContext, SQLContext\n",
    "from pyspark.sql.functions import col, when, rand, expr, udf\n",
    "from random import choice\n",
    "\n",
    "# Etapa 1: Criar SparkSession e carregar o arquivo\n",
    "spark = SparkSession.builder \\\n",
    "    .master(\"local[*]\") \\\n",
    "    .appName(\"Exercicio Intro\") \\\n",
    "    .getOrCreate()"
   ]
  },
  {
   "cell_type": "markdown",
   "metadata": {},
   "source": [
    "## lendo ao arquivo \"nome_aleatorios.txt\" e mostrando as 5 primeiras linhas"
   ]
  },
  {
   "cell_type": "code",
   "execution_count": 2,
   "metadata": {},
   "outputs": [
    {
     "name": "stdout",
     "output_type": "stream",
     "text": [
      "+----------------+\n",
      "|             _c0|\n",
      "+----------------+\n",
      "|  Frances Bennet|\n",
      "|   Jamie Russell|\n",
      "|  Edward Kistler|\n",
      "|   Sheila Maurer|\n",
      "|Donald Golightly|\n",
      "+----------------+\n",
      "only showing top 5 rows\n",
      "\n"
     ]
    }
   ],
   "source": [
    "df_nomes = spark.read.csv(\"nomes_aleatorios.txt\", header=False, inferSchema=True)\n",
    "df_nomes.show(5)"
   ]
  },
  {
   "cell_type": "markdown",
   "metadata": {},
   "source": [
    "## renomeando e mostrando as 10 primeiras linhas \n"
   ]
  },
  {
   "cell_type": "code",
   "execution_count": 3,
   "metadata": {},
   "outputs": [
    {
     "name": "stdout",
     "output_type": "stream",
     "text": [
      "root\n",
      " |-- Nome: string (nullable = true)\n",
      "\n",
      "+-----------------+\n",
      "|             Nome|\n",
      "+-----------------+\n",
      "|   Frances Bennet|\n",
      "|    Jamie Russell|\n",
      "|   Edward Kistler|\n",
      "|    Sheila Maurer|\n",
      "| Donald Golightly|\n",
      "|       David Gray|\n",
      "|      Joy Bennett|\n",
      "|      Paul Kriese|\n",
      "|Berniece Ornellas|\n",
      "|    Brian Farrell|\n",
      "+-----------------+\n",
      "only showing top 10 rows\n",
      "\n"
     ]
    }
   ],
   "source": [
    "df_nomes = df_nomes.withColumnRenamed(\"_c0\", \"Nome\")\n",
    "df_nomes.printSchema()\n",
    "df_nomes.show(10)"
   ]
  },
  {
   "cell_type": "markdown",
   "metadata": {},
   "source": [
    "## Etapa 3: Adicionar coluna \"Escolaridade\""
   ]
  },
  {
   "cell_type": "code",
   "execution_count": 4,
   "metadata": {},
   "outputs": [
    {
     "name": "stdout",
     "output_type": "stream",
     "text": [
      "+-----------------+------------+\n",
      "|             Nome|Escolaridade|\n",
      "+-----------------+------------+\n",
      "|   Frances Bennet|    Superior|\n",
      "|    Jamie Russell| Fundamental|\n",
      "|   Edward Kistler|       Medio|\n",
      "|    Sheila Maurer|    Superior|\n",
      "| Donald Golightly|       Medio|\n",
      "|       David Gray|       Medio|\n",
      "|      Joy Bennett|       Medio|\n",
      "|      Paul Kriese|    Superior|\n",
      "|Berniece Ornellas|    Superior|\n",
      "|    Brian Farrell| Fundamental|\n",
      "+-----------------+------------+\n",
      "only showing top 10 rows\n",
      "\n"
     ]
    }
   ],
   "source": [
    "# Etapa 3: Adicionar coluna \"Escolaridade\"\n",
    "df_nomes = df_nomes.withColumn(\n",
    "    \"Escolaridade\", \n",
    "    when(rand() < 0.33, \"Fundamental\")\n",
    "    .when((rand() >= 0.33) & (rand() < 0.66), \"Medio\")\n",
    "    .otherwise(\"Superior\")\n",
    ")\n",
    "\n",
    "df_nomes.show(10)"
   ]
  },
  {
   "cell_type": "markdown",
   "metadata": {},
   "source": [
    "## criando uma lista de países e diacionando a coluna"
   ]
  },
  {
   "cell_type": "code",
   "execution_count": 5,
   "metadata": {},
   "outputs": [
    {
     "name": "stdout",
     "output_type": "stream",
     "text": [
      "+-----------------+------------+---------+\n",
      "|             Nome|Escolaridade|     Pais|\n",
      "+-----------------+------------+---------+\n",
      "|   Frances Bennet|    Superior|   Brasil|\n",
      "|    Jamie Russell| Fundamental| Suriname|\n",
      "|   Edward Kistler|       Medio|Argentina|\n",
      "|    Sheila Maurer|    Superior|  Equador|\n",
      "| Donald Golightly|       Medio|Venezuela|\n",
      "|       David Gray|       Medio|Argentina|\n",
      "|      Joy Bennett|       Medio| Suriname|\n",
      "|      Paul Kriese|    Superior| Suriname|\n",
      "|Berniece Ornellas|    Superior|Venezuela|\n",
      "|    Brian Farrell| Fundamental|Venezuela|\n",
      "+-----------------+------------+---------+\n",
      "only showing top 10 rows\n",
      "\n"
     ]
    }
   ],
   "source": [
    "# Lista de países\n",
    "paises = [\"Argentina\", \"Brasil\", \"Chile\", \"Colômbia\", \"Equador\", \"Guiana\", \"Paraguai\", \"Peru\", \"Suriname\", \"Uruguai\", \"Venezuela\", \"Bolívia\", \"Guiana Francesa\"]\n",
    "\n",
    "# Criar uma coluna com o array de países e selecionar um valor aleatório\n",
    "df_nomes = df_nomes.withColumn(\"Pais\", F.array(*[F.lit(pais) for pais in paises]))\n",
    "\n",
    "# Selecionar um país aleatório da lista usando o índice aleatório\n",
    "df_nomes = df_nomes.withColumn(\"Pais\", F.expr(\"Pais[cast(rand() * size(Pais) as int)]\"))\n",
    "\n",
    "df_nomes = df_nomes.drop(\"random_index\")\n",
    "\n",
    "df_nomes.show(10)"
   ]
  },
  {
   "cell_type": "markdown",
   "metadata": {},
   "source": [
    "## Etapa 5: Adicionar coluna \"AnoNascimento\" com valores aleatórios"
   ]
  },
  {
   "cell_type": "code",
   "execution_count": 6,
   "metadata": {},
   "outputs": [
    {
     "name": "stdout",
     "output_type": "stream",
     "text": [
      "+-----------------+------------+---------+-------------+\n",
      "|             Nome|Escolaridade|     Pais|AnoNascimento|\n",
      "+-----------------+------------+---------+-------------+\n",
      "|   Frances Bennet|    Superior|   Brasil|         1993|\n",
      "|    Jamie Russell| Fundamental| Suriname|         1986|\n",
      "|   Edward Kistler|       Medio|Argentina|         1979|\n",
      "|    Sheila Maurer|    Superior|  Equador|         1946|\n",
      "| Donald Golightly|       Medio|Venezuela|         2006|\n",
      "|       David Gray|       Medio|Argentina|         1986|\n",
      "|      Joy Bennett|       Medio| Suriname|         1967|\n",
      "|      Paul Kriese|    Superior| Suriname|         2009|\n",
      "|Berniece Ornellas|    Superior|Venezuela|         1998|\n",
      "|    Brian Farrell| Fundamental|Venezuela|         1956|\n",
      "+-----------------+------------+---------+-------------+\n",
      "only showing top 10 rows\n",
      "\n"
     ]
    }
   ],
   "source": [
    "\n",
    "df_nomes = df_nomes.withColumn(\"AnoNascimento\", (rand() * (2010 - 1945) + 1945).cast(\"int\"))\n",
    "df_nomes.show(10)"
   ]
  },
  {
   "cell_type": "markdown",
   "metadata": {},
   "source": [
    "##  Etapa 6: Selecionar pessoas nascidas no século 21"
   ]
  },
  {
   "cell_type": "code",
   "execution_count": 7,
   "metadata": {},
   "outputs": [
    {
     "name": "stdout",
     "output_type": "stream",
     "text": [
      "+--------------------+------------+---------------+-------------+\n",
      "|                Nome|Escolaridade|           Pais|AnoNascimento|\n",
      "+--------------------+------------+---------------+-------------+\n",
      "|    Donald Golightly|       Medio|      Venezuela|         2006|\n",
      "|         Paul Kriese|    Superior|       Suriname|         2009|\n",
      "|       Tracy Herring| Fundamental|Guiana Francesa|         2003|\n",
      "|      Gabriel Colyer|    Superior|        Uruguai|         2004|\n",
      "|          Daryl Page|    Superior|           Peru|         2002|\n",
      "|      Katrina Graham|    Superior|Guiana Francesa|         2002|\n",
      "|          John Meyer| Fundamental|        Bolívia|         2008|\n",
      "|          Ned Tester|       Medio|      Argentina|         2008|\n",
      "|Christopher Williams|    Superior|       Colômbia|         2005|\n",
      "|        Juliet Liles|       Medio|       Paraguai|         2007|\n",
      "+--------------------+------------+---------------+-------------+\n",
      "only showing top 10 rows\n",
      "\n"
     ]
    }
   ],
   "source": [
    "\n",
    "df_select = df_nomes.filter(df_nomes.AnoNascimento >= 2000)\n",
    "df_select.show(10)\n"
   ]
  },
  {
   "cell_type": "markdown",
   "metadata": {},
   "source": [
    "##  Etapa 7: Usar Spark SQL para selecionar pessoas nascidas no século 21"
   ]
  },
  {
   "cell_type": "code",
   "execution_count": 8,
   "metadata": {},
   "outputs": [
    {
     "name": "stdout",
     "output_type": "stream",
     "text": [
      "+--------------------+------------+---------------+-------------+\n",
      "|                Nome|Escolaridade|           Pais|AnoNascimento|\n",
      "+--------------------+------------+---------------+-------------+\n",
      "|    Donald Golightly|       Medio|      Venezuela|         2006|\n",
      "|         Paul Kriese|    Superior|       Suriname|         2009|\n",
      "|       Tracy Herring| Fundamental|Guiana Francesa|         2003|\n",
      "|      Gabriel Colyer|    Superior|        Uruguai|         2004|\n",
      "|          Daryl Page|    Superior|           Peru|         2002|\n",
      "|      Katrina Graham|    Superior|Guiana Francesa|         2002|\n",
      "|          John Meyer| Fundamental|        Bolívia|         2008|\n",
      "|          Ned Tester|       Medio|      Argentina|         2008|\n",
      "|Christopher Williams|    Superior|       Colômbia|         2005|\n",
      "|        Juliet Liles|       Medio|       Paraguai|         2007|\n",
      "+--------------------+------------+---------------+-------------+\n",
      "only showing top 10 rows\n",
      "\n"
     ]
    }
   ],
   "source": [
    "\n",
    "df_nomes.createOrReplaceTempView(\"pessoas\")\n",
    "\n",
    "# SQL para selecionar pessoas nascidas a partir de 2000\n",
    "spark.sql(\"SELECT * FROM pessoas WHERE AnoNascimento >= 2000\").show(10)"
   ]
  },
  {
   "cell_type": "markdown",
   "metadata": {},
   "source": [
    "## Etapa 8: Contar Millenials"
   ]
  },
  {
   "cell_type": "code",
   "execution_count": 9,
   "metadata": {},
   "outputs": [
    {
     "name": "stdout",
     "output_type": "stream",
     "text": [
      "Número de Millenials: 2306829\n"
     ]
    }
   ],
   "source": [
    "\n",
    "millennials_count = df_nomes.filter((df_nomes.AnoNascimento >= 1980) & (df_nomes.AnoNascimento <= 1994)).count()\n",
    "print(f\"Número de Millenials: {millennials_count}\")"
   ]
  },
  {
   "cell_type": "markdown",
   "metadata": {},
   "source": [
    "## Etapa 9: Contar Millenials usando Spark SQL"
   ]
  },
  {
   "cell_type": "code",
   "execution_count": 10,
   "metadata": {},
   "outputs": [
    {
     "name": "stdout",
     "output_type": "stream",
     "text": [
      "+--------+\n",
      "|count(1)|\n",
      "+--------+\n",
      "| 2306829|\n",
      "+--------+\n",
      "\n"
     ]
    }
   ],
   "source": [
    "\n",
    "spark.sql(\"SELECT COUNT(*) FROM pessoas WHERE AnoNascimento BETWEEN 1980 AND 1994\").show()\n"
   ]
  },
  {
   "cell_type": "markdown",
   "metadata": {},
   "source": [
    "## Etapa 10: Contar pessoas de cada geração por país"
   ]
  },
  {
   "cell_type": "code",
   "execution_count": 11,
   "metadata": {},
   "outputs": [
    {
     "name": "stdout",
     "output_type": "stream",
     "text": [
      "+---------+------------+----------+\n",
      "|     Pais|     Geracao|Quantidade|\n",
      "+---------+------------+----------+\n",
      "|Argentina|Baby Boomers|    237612|\n",
      "|Argentina|   Geracao X|    177413|\n",
      "|Argentina|   Geracao Z|    177942|\n",
      "|Argentina| Millennials|    176866|\n",
      "|  Bolívia|Baby Boomers|    236871|\n",
      "|  Bolívia|   Geracao X|    177672|\n",
      "|  Bolívia|   Geracao Z|    177049|\n",
      "|  Bolívia| Millennials|    178320|\n",
      "|   Brasil|Baby Boomers|    236032|\n",
      "|   Brasil|   Geracao X|    177938|\n",
      "|   Brasil|   Geracao Z|    177724|\n",
      "|   Brasil| Millennials|    177519|\n",
      "|    Chile|Baby Boomers|    237151|\n",
      "|    Chile|   Geracao X|    177665|\n",
      "|    Chile|   Geracao Z|    177503|\n",
      "|    Chile| Millennials|    177923|\n",
      "| Colômbia|Baby Boomers|    235950|\n",
      "| Colômbia|   Geracao X|    177157|\n",
      "| Colômbia|   Geracao Z|    177942|\n",
      "| Colômbia| Millennials|    176635|\n",
      "+---------+------------+----------+\n",
      "only showing top 20 rows\n",
      "\n"
     ]
    }
   ],
   "source": [
    "\n",
    "geracoes_sql = \"\"\"\n",
    "SELECT Pais, \n",
    "       CASE\n",
    "           WHEN AnoNascimento BETWEEN 1944 AND 1964 THEN 'Baby Boomers'\n",
    "           WHEN AnoNascimento BETWEEN 1965 AND 1979 THEN 'Geracao X'\n",
    "           WHEN AnoNascimento BETWEEN 1980 AND 1994 THEN 'Millennials'\n",
    "           WHEN AnoNascimento BETWEEN 1995 AND 2015 THEN 'Geracao Z'\n",
    "       END AS Geracao, \n",
    "       COUNT(*) AS Quantidade\n",
    "FROM pessoas\n",
    "GROUP BY Pais, Geracao\n",
    "ORDER BY Pais, Geracao\n",
    "\"\"\"\n",
    "\n",
    "\n",
    "df_geracoes = spark.sql(geracoes_sql)\n",
    "df_geracoes.show()"
   ]
  }
 ],
 "metadata": {
  "kernelspec": {
   "display_name": "Python 3",
   "language": "python",
   "name": "python3"
  },
  "language_info": {
   "codemirror_mode": {
    "name": "ipython",
    "version": 3
   },
   "file_extension": ".py",
   "mimetype": "text/x-python",
   "name": "python",
   "nbconvert_exporter": "python",
   "pygments_lexer": "ipython3",
   "version": "3.13.1"
  }
 },
 "nbformat": 4,
 "nbformat_minor": 2
}
