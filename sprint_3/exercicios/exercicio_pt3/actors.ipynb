{
 "cells": [
  {
   "cell_type": "code",
   "execution_count": 1,
   "metadata": {},
   "outputs": [
    {
     "name": "stdout",
     "output_type": "stream",
     "text": [
      "Cabeçalhos: ['Actor', 'Total Gross', 'Number of Movies', 'Average per Movie', '#1 Movie', 'Gross']\n",
      "['Harrison Ford', '4871.70 ', '41', '118.80 ', 'Star Wars: The Force Awakens', '936.70']\n",
      "['Samuel L. Jackson', '4772.80 ', '69', '69.20 ', 'The Avengers', '623.40']\n",
      "['Morgan Freeman', '4468.30 ', '61', '73.30 ', 'The Dark Knight', '534.90']\n",
      "['Tom Hanks', '4340.80 ', '44', '98.70 ', 'Toy Story 3', '415.00']\n",
      "['\"Robert Downey', ' Jr.\"', '3947.30 ', '53', '74.50 ', 'The Avengers', '623.40']\n",
      "['Eddie Murphy', '3810.40 ', '38', '100.30 ', 'Shrek 2', '441.20']\n",
      "['Tom Cruise', '3587.20 ', '36', '99.60 ', 'War of the Worlds', '234.30']\n",
      "['Johnny Depp', '3368.60 ', '45', '74.90 ', \"Dead Man's Chest\", '423.30']\n",
      "['Michael Caine', '3351.50 ', '58', '57.80 ', 'The Dark Knight', '534.90']\n",
      "['Scarlett Johansson', '3341.20 ', '37', '90.30 ', 'The Avengers', '623.40']\n",
      "['Gary Oldman', '3294.00 ', '38', '86.70 ', 'The Dark Knight', '534.90']\n",
      "['Robin Williams', '3279.30 ', '49', '66.90 ', 'Night at the Museum', '250.90']\n",
      "['Bruce Willis', '3189.40 ', '60', '53.20 ', 'Sixth Sense', '293.50']\n",
      "['Stellan Skarsgard', '3175.00 ', '43', '73.80 ', 'The Avengers', '623.40']\n",
      "['Anthony Daniels', '3162.90 ', '7', '451.80 ', 'Star Wars: The Force Awakens', '936.70']\n",
      "['Ian McKellen', '3150.40 ', '31', '101.60 ', 'Return of the King', '377.80']\n",
      "['Will Smith', '3149.10 ', '24', '131.20 ', 'Independence Day', '306.20']\n",
      "['Stanley Tucci', '3123.90 ', '50', '62.50 ', 'Catching Fire', '424.70']\n",
      "['Matt Damon', '3107.30 ', '39', '79.70 ', 'The Martian', '228.40']\n",
      "['Robert DeNiro', '3081.30 ', '79', '39.00 ', 'Meet the Fockers', '279.30']\n",
      "['Cameron Diaz', '3031.70 ', '34', '89.20 ', 'Shrek 2', '441.20']\n",
      "['Liam Neeson', '2942.70 ', '63', '46.70 ', 'The Phantom Menace', '474.50']\n",
      "['Andy Serkis', '2890.60 ', '23', '125.70 ', 'Star Wars: The Force Awakens', '936.70']\n",
      "['Don Cheadle', '2885.40 ', '34', '84.90 ', 'Avengers: Age of Ultron', '459.00']\n",
      "['Ben Stiller', '2827.00 ', '37', '76.40 ', 'Meet the Fockers', '279.30']\n",
      "['Helena Bonham Carter', '2822.00 ', '36', '78.40 ', 'Harry Potter / Deathly Hallows (P2)', '381.00']\n",
      "['Orlando Bloom', '2815.80 ', '17', '165.60 ', \"Dead Man's Chest\", '423.30']\n",
      "['Woody Harrelson', '2815.80 ', '50', '56.30 ', 'Catching Fire', '424.70']\n",
      "['Cate Blanchett', '2802.60 ', '39', '71.90 ', 'Return of the King', '377.80']\n",
      "['Julia Roberts', '2735.30 ', '42', '65.10 ', \"Ocean's Eleven\", '183.40']\n",
      "['Elizabeth Banks', '2726.30 ', '35', '77.90 ', 'Catching Fire', '424.70']\n",
      "['Ralph Fiennes', '2715.30 ', '36', '75.40 ', 'Harry Potter / Deathly Hallows (P2)', '381.00']\n",
      "['Emma Watson', '2681.90 ', '17', '157.80 ', 'Harry Potter / Deathly Hallows (P2)', '381.00']\n",
      "['Tommy Lee Jones', '2681.30 ', '46', '58.30 ', 'Men in Black', '250.70']\n",
      "['Brad Pitt', '2680.90 ', '40', '67.00 ', 'World War Z', '202.40']\n",
      "['Adam Sandler', '2661.00 ', '32', '83.20 ', 'Hotel Transylvania 2', '169.70']\n",
      "['Daniel Radcliffe', '2634.40 ', '17', '155.00 ', 'Harry Potter / Deathly Hallows (P2)', '381.00']\n",
      "['Jonah Hill', '2605.10 ', '29', '89.80 ', 'The LEGO Movie', '257.80']\n",
      "['Owen Wilson', '2602.30 ', '39', '66.70 ', 'Night at the Museum', '250.90']\n",
      "['Idris Elba', '2580.60 ', '26', '99.30 ', 'Avengers: Age of Ultron', '459.00']\n",
      "['Bradley Cooper', '2557.70 ', '25', '102.30 ', 'American Sniper', '350.10']\n",
      "['Mark Wahlberg', '2549.80 ', '36', '70.80 ', 'Transformers 4', '245.40']\n",
      "['Jim Carrey', '2545.20 ', '27', '94.30 ', 'The Grinch', '260.00']\n",
      "['Dustin Hoffman', '2522.10 ', '43', '58.70 ', 'Meet the Fockers', '279.30']\n",
      "['Leonardo DiCaprio', '2518.30 ', '25', '100.70 ', 'Titanic', '658.70']\n",
      "['Jeremy Renner', '2500.30 ', '21', '119.10 ', 'The Avengers', '623.40']\n",
      "['Philip Seymour Hoffman', '2463.70 ', '40', '61.60 ', 'Catching Fire', '424.70']\n",
      "['Sandra Bullock', '2462.60 ', '35', '70.40 ', 'Minions', '336.00']\n",
      "['Chris Evans', '2457.80 ', '23', '106.90 ', 'The Avengers', '623.40']\n",
      "['Anne Hathaway', '2416.50 ', '25', '96.70 ', 'The Dark Knight Rises', '448.10']\n"
     ]
    }
   ],
   "source": [
    "with open('actors.csv', 'r', encoding='utf-8') as arquivo:\n",
    "    linhas = arquivo.readlines()  # Lê todas as linhas do arquivo\n",
    "\n",
    "cabecalhos = linhas[0].strip().split(',')\n",
    "\n",
    "dados = []\n",
    "for linha in linhas[1:]:\n",
    "    valores = linha.strip().split(',')  # Separa as colunas\n",
    "    dados.append(valores)\n",
    "\n",
    "#  os resultados\n",
    "print(\"Cabeçalhos:\", cabecalhos)\n",
    "for linha in dados:\n",
    "    print(linha)\n",
    "\n"
   ]
  },
  {
   "cell_type": "code",
   "execution_count": 5,
   "metadata": {},
   "outputs": [
    {
     "name": "stdout",
     "output_type": "stream",
     "text": [
      "O ator/atriz com o maior número de filmes é: Robert DeNiro\n",
      "Com um total de 79 filmes.\n"
     ]
    }
   ],
   "source": [
    "maior_numero_filmes = 0\n",
    "ator_maior_numero_filmes = \"\"\n",
    "\n",
    "for linha in dados:\n",
    "    ator = linha[0].strip()  \n",
    "    numero_filmes_str = linha[2].strip()  \n",
    "\n",
    "    if numero_filmes_str.isdigit():  \n",
    "        numero_filmes = int(numero_filmes_str)  \n",
    "\n",
    "        if numero_filmes > maior_numero_filmes:\n",
    "            maior_numero_filmes = numero_filmes\n",
    "            ator_maior_numero_filmes = ator\n",
    "\n",
    "if ator_maior_numero_filmes:\n",
    "    resultado = (f\"O ator/atriz com o maior número de filmes é: {ator_maior_numero_filmes}\\n\"\n",
    "                 f\"Com um total de {maior_numero_filmes} filmes.\")\n",
    "\n",
    "    print(resultado)\n",
    "\n",
    "    # Grava o resultado em um arquivo\n",
    "    with open('etapa_01.txt', 'w') as arquivo:\n",
    "        arquivo.write(resultado + '\\n')\n"
   ]
  },
  {
   "cell_type": "code",
   "execution_count": 3,
   "metadata": {},
   "outputs": [
    {
     "name": "stdout",
     "output_type": "stream",
     "text": [
      "A média da receita de bilheteira bruta dos principais filmes é: $424.72\n"
     ]
    }
   ],
   "source": [
    "soma_receita = 0.0\n",
    "numero_filmes_total = 0\n",
    "\n",
    "for linha in dados:\n",
    "    gross_str = linha[5].strip()  \n",
    "\n",
    "    if gross_str.replace('.', '', 1).isdigit():  \n",
    "        gross = float(gross_str)  \n",
    "        soma_receita += gross  \n",
    "        numero_filmes_total += 1  \n",
    "\n",
    "if numero_filmes_total > 0:\n",
    "    media_receita = soma_receita / numero_filmes_total\n",
    "    resultado = f\"A média da receita de bilheteira bruta dos principais filmes é: ${media_receita:.2f}\"\n",
    "\n",
    "    print(resultado)\n",
    "\n",
    "    # Grava o resultado em um arquivo\n",
    "    with open('etapa_02.txt', 'w') as arquivo:\n",
    "        arquivo.write(resultado + '\\n')\n",
    "\n"
   ]
  },
  {
   "cell_type": "code",
   "execution_count": 4,
   "metadata": {},
   "outputs": [
    {
     "name": "stdout",
     "output_type": "stream",
     "text": [
      "O ator/atriz com a maior media de receita de bilheteira bruta por filme e: Anthony Daniels\n",
      "Com uma receita media de $451.80\n"
     ]
    }
   ],
   "source": [
    "maior_media_receita = 0.0\n",
    "ator_maior_media_receita = \"\"\n",
    "\n",
    "for linha in dados:\n",
    "    ator = linha[0].strip()  \n",
    "    media_receita_str = linha[3].strip()  \n",
    "\n",
    "    if media_receita_str.replace('.', '', 1).isdigit():  \n",
    "        media_receita = float(media_receita_str)  \n",
    "\n",
    "        if media_receita > maior_media_receita:\n",
    "            maior_media_receita = media_receita\n",
    "            ator_maior_media_receita = ator\n",
    "\n",
    "if ator_maior_media_receita:\n",
    "    resultado = (f\"O ator/atriz com a maior media de receita de bilheteira bruta por filme e: {ator_maior_media_receita}\\n\"\n",
    "                 f\"Com uma receita media de ${maior_media_receita:.2f}\")\n",
    "\n",
    "    print(resultado)\n",
    "\n",
    "    with open('etapa_03.txt', 'w') as arquivo:\n",
    "        arquivo.write(resultado + '\\n')\n",
    "\n"
   ]
  },
  {
   "cell_type": "code",
   "execution_count": 6,
   "metadata": {},
   "outputs": [],
   "source": [
    "\n",
    "contagem_filmes = {}\n",
    "\n",
    "\n",
    "for linha in dados:\n",
    "    filme = linha[4].strip() \n",
    "\n",
    "    if filme in contagem_filmes:\n",
    "        contagem_filmes[filme] += 1\n",
    "    else:\n",
    "        contagem_filmes[filme] = 1\n",
    "\n",
    "\n",
    "filmes_ordenados = sorted(contagem_filmes.items(), key=lambda x: (-x[1], x[0]))\n",
    "\n",
    "\n",
    "with open('etapa_04.txt', 'w') as arquivo:\n",
    "    for filme, quantidade in filmes_ordenados:\n",
    "        arquivo.write(f\"O filme '{filme}' aparece {quantidade} vez(es) no dataset.\\n\")\n",
    "\n",
    "\n"
   ]
  },
  {
   "cell_type": "code",
   "execution_count": 7,
   "metadata": {},
   "outputs": [],
   "source": [
    "\n",
    "atores_receitas = []\n",
    "\n",
    "for linha in dados:\n",
    "    ator = linha[0].strip()  \n",
    "    receita_str = linha[1].strip()  \n",
    "\n",
    "    \n",
    "    if receita_str.replace('.', '', 1).isdigit():  \n",
    "        receita_total = float(receita_str)  \n",
    "        atores_receitas.append((ator, receita_total))  \n",
    "\n",
    "\n",
    "atores_receitas.sort(key=lambda x: x[1], reverse=True)\n",
    "\n",
    "\n",
    "with open('etapa_05.txt', 'w') as arquivo:\n",
    "    for ator, receita in atores_receitas:\n",
    "        arquivo.write(f\"{ator} - ${receita:.2f}\\n\")  \n",
    "\n",
    "\n"
   ]
  }
 ],
 "metadata": {
  "kernelspec": {
   "display_name": "Python 3",
   "language": "python",
   "name": "python3"
  },
  "language_info": {
   "codemirror_mode": {
    "name": "ipython",
    "version": 3
   },
   "file_extension": ".py",
   "mimetype": "text/x-python",
   "name": "python",
   "nbconvert_exporter": "python",
   "pygments_lexer": "ipython3",
   "version": "3.12.6"
  }
 },
 "nbformat": 4,
 "nbformat_minor": 2
}
